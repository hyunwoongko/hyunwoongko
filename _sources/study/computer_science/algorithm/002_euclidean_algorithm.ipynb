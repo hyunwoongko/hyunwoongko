{
 "cells": [
  {
   "cell_type": "markdown",
   "metadata": {},
   "source": [
    "# 유클리드 호제법"
   ]
  },
  {
   "cell_type": "markdown",
   "metadata": {},
   "source": [
    "### 알고리즘 개요\n",
    "기계적으로 두 정수의 최대 공약수(Greatest Common Divisor)를 구하는 알고리즘이다. 우리는 소인수분해를 사용하는데, 이는 직관에 의존한 방법으로 컴퓨터엔 부적합하다. 참고로 소인수분해는 대표적인 NP Problem으로 다항시간 안에 풀리는 것도 보장되지 않는다."
   ]
  },
  {
   "cell_type": "markdown",
   "metadata": {},
   "source": [
    "### 최대공약수의 성질\n",
    "U > V인 두 수가 있을 때, 최대공약수(gcd) 연산을 ◇라고 정의한다. 이 성질에 대한 증명은 [여기](https://nukeguys.tistory.com/29)를 확인하면 된다. <br><br>\n",
    "\n",
    "1. 뺄셈법칙 : U ◇ V = (U-V) ◇ V\n",
    "2. 교환법칙 : U ◇ V = V ◇ U\n",
    "3. 항등원 : U ◇ 0 = U"
   ]
  },
  {
   "cell_type": "markdown",
   "metadata": {},
   "source": [
    "### 수도 코드\n",
    "위와 같은 규칙을 이용해서 U와 V중 한 쪽을 먼저 0으로 만들고, 남은 한쪽의 값을 반환하게 하면 손쉽게 최대공약수를 구할 수 있을 것이다.\n",
    "\n",
    "```c\n",
    "\n",
    "int gcd(int u, int v){\n",
    "    if(\"v가 u보다 크면\") \"u와 v를 바꾼다.\"\n",
    "        \n",
    "    if(\"v가 0이라면\") return u;\n",
    "    else \"u-v와 v의 최대공약수를 계산해본다.\n",
    "        \n",
    "    \"이 것을 값이 반환될 때까지 반복한다.\"\n",
    "}\n",
    "```"
   ]
  },
  {
   "cell_type": "markdown",
   "metadata": {},
   "source": [
    "### 알고리즘 구현"
   ]
  },
  {
   "cell_type": "code",
   "execution_count": 1,
   "metadata": {},
   "outputs": [
    {
     "name": "stdout",
     "output_type": "stream",
     "text": [
      "u=280, v=30\n",
      "u=250, v=30\n",
      "u=220, v=30\n",
      "u=190, v=30\n",
      "u=160, v=30\n",
      "u=130, v=30\n",
      "u=100, v=30\n",
      "u=70, v=30\n",
      "u=40, v=30\n",
      "u=30, v=10\n",
      "u=20, v=10\n",
      "u=10, v=10\n",
      "u=10, v=0\n",
      "\n",
      "결과 = 10"
     ]
    }
   ],
   "source": [
    "#include<stdio.h>\n",
    "\n",
    "void swap(int *a, int *b){\n",
    "    int temp = *a;\n",
    "    *a = *b;\n",
    "    *b = temp;\n",
    "}\n",
    "\n",
    "/*\n",
    "* u와 v모두 0인 경우를 제외하고는\n",
    "* u가 v보다 무조건 커야한다는 전제 때문에\n",
    "* v는 0이 될 수 있지만, u는 0이 될 수 없음\n",
    "*/\n",
    "int gcd(int u, int v){\n",
    "    if(v > u) swap(&u, &v);\n",
    "    printf(\"u=%d, v=%d\\n\", u, v);\n",
    "\n",
    "    if(v == 0) return u;    \n",
    "    return gcd(u-v, v);\n",
    "}\n",
    "\n",
    "int main(){\n",
    "    int result = gcd(30, 280);\n",
    "    printf(\"\\n결과 = %d\", result);\n",
    "}"
   ]
  },
  {
   "cell_type": "markdown",
   "metadata": {},
   "source": [
    "### 알고리즘 최적화\n",
    "실행결과를 보면 280-30, 250-30.. 최종적으로 40-30까지 빼서 v는 10이 된다. 한번에 u에서 v를 빼서 10을 만들 순 없을까? 나머지 연산을 사용하면 가능하다."
   ]
  },
  {
   "cell_type": "code",
   "execution_count": 2,
   "metadata": {},
   "outputs": [
    {
     "name": "stdout",
     "output_type": "stream",
     "text": [
      "u=280, v=30\n",
      "u=30, v=10\n",
      "u=10, v=0\n",
      "\n",
      "결과 = 10"
     ]
    }
   ],
   "source": [
    "#include<stdio.h>\n",
    "\n",
    "void swap(int *a, int *b){\n",
    "    int temp = *a;\n",
    "    *a = *b;\n",
    "    *b = temp;\n",
    "}\n",
    "\n",
    "/*\n",
    "* u와 v모두 0인 경우를 제외하고는\n",
    "* u가 v보다 무조건 커야한다는 전제 때문에\n",
    "* v는 0이 될 수 있지만, u는 0이 될 수 없음\n",
    "*/\n",
    "int gcd(int u, int v){\n",
    "    if(v > u) swap(&u, &v);\n",
    "    printf(\"u=%d, v=%d\\n\", u, v);\n",
    "\n",
    "    if(v == 0) return u;    \n",
    "    return gcd(u%v, v);\n",
    "    // use '%' insted of '-'  \n",
    "}\n",
    "\n",
    "int main(){\n",
    "    int result = gcd(30, 280);\n",
    "    printf(\"\\n결과 = %d\", result);\n",
    "}"
   ]
  },
  {
   "cell_type": "markdown",
   "metadata": {},
   "source": [
    "### Reference\n",
    "> https://youtu.be/OlpNg81Csn0"
   ]
  }
 ],
 "metadata": {
  "kernelspec": {
   "display_name": "C",
   "language": "c",
   "name": "c"
  },
  "language_info": {
   "file_extension": ".c",
   "mimetype": "text/plain",
   "name": "c"
  }
 },
 "nbformat": 4,
 "nbformat_minor": 4
}
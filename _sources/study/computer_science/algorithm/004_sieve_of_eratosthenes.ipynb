{
 "cells": [
  {
   "cell_type": "markdown",
   "metadata": {},
   "source": [
    "# 에라토스테네스의 체"
   ]
  },
  {
   "cell_type": "markdown",
   "metadata": {},
   "source": [
    "### 알고리즘 개요\n",
    "에라토스테네스의 체는 정수 N까지의 모든 소수를 구하는 알고리즘이다. `continue`를 사용하면 일반적으로 소수판별 알고리즘 중에서 가장 빠르다고 알려져있다. "
   ]
  },
  {
   "cell_type": "markdown",
   "metadata": {},
   "source": [
    "### 수도 코드\n",
    "\n",
    "```c\n",
    "\"2 ~ N까지의 배열을 만들고 0으로 초기화\"\n",
    "\n",
    "void seive_of_eratosthenes(){\n",
    "    \"2 ~ N-1까지 수의 배수들을 1로 체크\"\n",
    "    \"저장된 값이 0인 인덱스를 소수로 판별\"\n",
    "}\n",
    "```"
   ]
  },
  {
   "cell_type": "markdown",
   "metadata": {},
   "source": [
    "### 애니메이션\n",
    "\n",
    "![img](https://user-images.githubusercontent.com/38183241/103154304-f3e0bf80-47d9-11eb-922b-b38169c1094b.gif)"
   ]
  },
  {
   "cell_type": "markdown",
   "metadata": {},
   "source": [
    "### 알고리즘 구현"
   ]
  },
  {
   "cell_type": "code",
   "execution_count": 1,
   "metadata": {},
   "outputs": [
    {
     "name": "stdout",
     "output_type": "stream",
     "text": [
      "2 3 5 7 11 13 17 19 23 29 31 37 41 43 47 53 59 61 67 71 73 79 83 89 97 "
     ]
    }
   ],
   "source": [
    "#include<stdio.h>\n",
    "#define N 100\n",
    "\n",
    "int arr[N];\n",
    "\n",
    "void seive_of_eratosthenes(){\n",
    "    \n",
    "    for(int i = 2 ; i < N; i++){\n",
    "        \n",
    "        // 속도 향상에 필수적인 부분\n",
    "        if(arr[i] == 1)\n",
    "            continue;\n",
    "        \n",
    "        /*\n",
    "        * 자기자신(i)을 제외하고, 자기자신의 배수(*2부터) 탐색을 시작\n",
    "        * 계속해서 i만큼 더해나가면 배수들을 모두 체크할 수 있음\n",
    "        */\n",
    "        for(int j = i * 2 ; j < N ; j += i){\n",
    "            arr[j] = 1;\n",
    "        }\n",
    "    }\n",
    "}\n",
    "\n",
    "int main(){\n",
    "    for(int i = 0 ; i < N ; i++)\n",
    "        arr[i] = 0;\n",
    "    \n",
    "    seive_of_eratosthenes();\n",
    "    \n",
    "    for(int i = 2 ; i < N; i++){\n",
    "        if(arr[i] == 0){\n",
    "            printf(\"%d \", i);\n",
    "        }\n",
    "    }\n",
    "    return 0;\n",
    "}"
   ]
  },
  {
   "cell_type": "markdown",
   "metadata": {},
   "source": [
    "### 알고리즘 최적화\n",
    "에라토스테네스의 체도 마찬가지로 배수관계를 이용하여 소수를 판별하기 때문에 기존 소수판별 알고리즘처럼 `n-1까지 다 볼 것 없이, sqrt(n)까지만 보면 됨.`"
   ]
  },
  {
   "cell_type": "code",
   "execution_count": 4,
   "metadata": {},
   "outputs": [
    {
     "name": "stdout",
     "output_type": "stream",
     "text": [
      "2 3 5 7 11 13 17 19 23 29 31 37 41 43 47 53 59 61 67 71 73 79 83 89 97 "
     ]
    }
   ],
   "source": [
    "#include<stdio.h>\n",
    "#include<math.h>\n",
    "#define N 100\n",
    "\n",
    "int arr[N];\n",
    "\n",
    "void seive_of_eratosthenes(){\n",
    "    \n",
    "    // n-1 => sqrt(n)로 속도 향상\n",
    "    for(int i = 2 ; i < sqrt(N); i++){\n",
    "        \n",
    "        // 속도 향상에 필수적인 부분\n",
    "        if(arr[i] == 1)\n",
    "            continue;\n",
    "        \n",
    "        /*\n",
    "        * 자기자신(i)을 제외하고, 자기자신의 배수(*2부터) 탐색을 시작\n",
    "        * 계속해서 i만큼 더해나가면 배수들을 모두 체크할 수 있음\n",
    "        */\n",
    "        for(int j = i * 2 ; j < N ; j += i){\n",
    "            arr[j] = 1;\n",
    "        }\n",
    "    }\n",
    "}\n",
    "\n",
    "int main(){\n",
    "    for(int i = 0 ; i < N ; i++)\n",
    "        arr[i] = 0;\n",
    "    \n",
    "    seive_of_eratosthenes();\n",
    "    \n",
    "    for(int i = 2 ; i < N; i++){\n",
    "        if(arr[i] == 0){\n",
    "            printf(\"%d \", i);\n",
    "        }\n",
    "    }\n",
    "    return 0;\n",
    "}"
   ]
  },
  {
   "cell_type": "markdown",
   "metadata": {},
   "source": [
    "### Refence\n",
    "> https://youtu.be/mdwiXa34FXk"
   ]
  }
 ],
 "metadata": {
  "kernelspec": {
   "display_name": "C",
   "language": "c",
   "name": "c"
  },
  "language_info": {
   "file_extension": ".c",
   "mimetype": "text/plain",
   "name": "c"
  }
 },
 "nbformat": 4,
 "nbformat_minor": 4
}
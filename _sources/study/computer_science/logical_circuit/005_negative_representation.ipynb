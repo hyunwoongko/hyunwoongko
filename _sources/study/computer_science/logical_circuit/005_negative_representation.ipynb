{
 "cells": [
  {
   "cell_type": "markdown",
   "metadata": {},
   "source": [
    "# 음수 표현법"
   ]
  },
  {
   "cell_type": "markdown",
   "metadata": {},
   "source": [
    "### 1. 보수(Compliment)\n",
    "보수 : 수를 반전시킨 것을 의미한다. `R-1의 보수는 최댓값 - 값`처럼 계산하는데 10진수 273의 9의 보수는 999 - 276으로 726이 되고, 2진수 10101100의 1의 보수는 11111111 - 10101100 = 01010011이 된다. `R의 보수는 R-1보수에 1을 더한 값`으로 10진수 273의 10의 보수는 726 + 1로 727이 되고, 2진수 01010011의 2의 보수는 01010100이 된다."
   ]
  },
  {
   "cell_type": "markdown",
   "metadata": {},
   "source": [
    "### 2. 보수를 공부하는 이유\n",
    "MSB를 사용하는 경우 R의 보수는 +0과 -0이 같아져서 음수 표현시 하나의 수를 더 표현할 수 있으며, 음수표현을 통해 가산기만 구현하면 `감산기를 구현할 필요가 없음.` 5 - 2를 5 + (-2)처럼 구현"
   ]
  },
  {
   "cell_type": "markdown",
   "metadata": {},
   "source": [
    "### 3. Reference\n",
    "> https://youtu.be/OG9e8WHu1vI\n"
   ]
  }
 ],
 "metadata": {
  "kernelspec": {
   "display_name": "Python 3",
   "language": "python",
   "name": "python3"
  },
  "language_info": {
   "codemirror_mode": {
    "name": "ipython",
    "version": 3
   },
   "file_extension": ".py",
   "mimetype": "text/x-python",
   "name": "python",
   "nbconvert_exporter": "python",
   "pygments_lexer": "ipython3",
   "version": "3.6.9"
  }
 },
 "nbformat": 4,
 "nbformat_minor": 4
}
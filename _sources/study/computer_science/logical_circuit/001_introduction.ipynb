{
 "cells": [
  {
   "cell_type": "markdown",
   "metadata": {},
   "source": [
    "# 논리회로의 개요"
   ]
  },
  {
   "cell_type": "markdown",
   "metadata": {},
   "source": [
    "### 우리가 배우는 것\n",
    "`해석`은 입력과 회로가 주어졌을 때 출력을 예측하는 문제이고, `설계`는 입력과 출력이 주어졌을 때 그 회로가 어떨지 설계하는 것이다. 우리는 이렇게 두가지 관점에서 논리회로를 공부한다."
   ]
  },
  {
   "cell_type": "markdown",
   "metadata": {},
   "source": [
    "### 컴퓨터의 구조\n",
    "컴퓨터는 프로세서(AU + LU + CU)와 메모리(RAM + ROM), 입출력장치 (I/O) 등으로 구성되어있다. 위 세가지 요소가 컴퓨터에서 가장 중요한 3요소라고 할 수 있다."
   ]
  },
  {
   "cell_type": "markdown",
   "metadata": {},
   "source": [
    "### 논리회로의 종류\n",
    "논리회로는 크게 두가지로 나뉘는데, `조합 논리 회로`는 현재 입력을 어떤 함수에 넣으면 결과 바로 도출되는 회로이고 `순차 논리 회로`는 현재 입력과 과거의 상태를 함수에 입력해서 결과 도출하는 회로이다."
   ]
  },
  {
   "cell_type": "markdown",
   "metadata": {},
   "source": [
    "### Reference\n",
    "> https://youtu.be/23kEL4QLhuM\n"
   ]
  }
 ],
 "metadata": {
  "kernelspec": {
   "display_name": "Python 3",
   "language": "python",
   "name": "python3"
  },
  "language_info": {
   "codemirror_mode": {
    "name": "ipython",
    "version": 3
   },
   "file_extension": ".py",
   "mimetype": "text/x-python",
   "name": "python",
   "nbconvert_exporter": "python",
   "pygments_lexer": "ipython3",
   "version": "3.6.9"
  }
 },
 "nbformat": 4,
 "nbformat_minor": 4
}
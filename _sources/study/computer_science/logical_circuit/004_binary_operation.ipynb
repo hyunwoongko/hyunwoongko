{
 "cells": [
  {
   "cell_type": "markdown",
   "metadata": {},
   "source": [
    "# 이진 연산"
   ]
  },
  {
   "cell_type": "markdown",
   "metadata": {},
   "source": [
    "### 1. 덧셈\n",
    "- 덧셈에서는 자리 올림이 발생할 수 있다.\n",
    "- 이 자리올림을 '캐리(Carry)'라고 한다.\n",
    "\n",
    "![img](https://user-images.githubusercontent.com/38183241/103154349-47eba400-47da-11eb-8ece-0adc01221be2.png)"
   ]
  },
  {
   "cell_type": "markdown",
   "metadata": {},
   "source": [
    "### 2. 뺄셈\n",
    "- 뺄셈에서는 상위 자리에서 빌려와야할 수 있다.\n",
    "- 이 자리 빌림을 '바로우(Borrow)'라고 한다.\n",
    "\n",
    "![img](https://user-images.githubusercontent.com/38183241/103154350-47eba400-47da-11eb-881a-847154411146.png)\n"
   ]
  },
  {
   "cell_type": "markdown",
   "metadata": {},
   "source": [
    "### 3. 구현"
   ]
  },
  {
   "cell_type": "code",
   "execution_count": 4,
   "metadata": {},
   "outputs": [
    {
     "name": "stdout",
     "output_type": "stream",
     "text": [
      "01 => 0001\n",
      "11101 => 00011101\n",
      "0001 => 00000001\n"
     ]
    }
   ],
   "source": [
    "import re\n",
    "\n",
    "def preprocessing(a:str):\n",
    "    \"\"\"\n",
    "    숫자를 4의 배수길이로 맞춰주는 함수\n",
    "    \"\"\"\n",
    "    \n",
    "    # 빈칸 지우기\n",
    "    a = re.sub(' ', '', a)\n",
    "    \n",
    "    # 길이가 0인경우 엑셉션 발생    \n",
    "    if len(a) == 0:\n",
    "        raise Exception() \n",
    "    \n",
    "    # 자리수가 4의 배수가 될때까지 앞에 0을 insert함    \n",
    "    while len(a) % 4 != 0:\n",
    "        a = '0' + a[0:]\n",
    "        \n",
    "    return a\n",
    "\n",
    "\n",
    "print('01 => {}'.format(preprocessing('01')))\n",
    "print('11101 => {}'.format(preprocessing('11101')))\n",
    "print('0001 => {}'.format(preprocessing('00001')))"
   ]
  },
  {
   "cell_type": "code",
   "execution_count": 5,
   "metadata": {},
   "outputs": [
    {
     "name": "stdout",
     "output_type": "stream",
     "text": [
      "a : 01011001 => 0101 1001\n",
      "b : 10111011 => 1011 1011\n"
     ]
    }
   ],
   "source": [
    "def split_binary(a:str) -> list:\n",
    "    \"\"\"\n",
    "    00000000처럼 긴 형식을\n",
    "    0000 0000형식으로 4자리씩 자르는 함수\n",
    "    \"\"\"\n",
    "    \n",
    "    arr, cache = [], ''\n",
    "    \n",
    "    for i, val in enumerate(list(a)):\n",
    "        cache += val    \n",
    "        if (i+1) % 4 == 0 and i != 0:\n",
    "            arr.append(cache)\n",
    "            cache = ''\n",
    "    \n",
    "    return arr\n",
    "\n",
    "\n",
    "a, b = '01011001', '10111011'\n",
    "print(\"a : {0} => {1}\".format(a, ' '.join(split_binary(a))))\n",
    "print(\"b : {0} => {1}\".format(b, ' '.join(split_binary(b))))"
   ]
  },
  {
   "cell_type": "code",
   "execution_count": 6,
   "metadata": {},
   "outputs": [
    {
     "name": "stdout",
     "output_type": "stream",
     "text": [
      "01011001 + 10111011\n",
      "===> 0001 0001 0100\n"
     ]
    }
   ],
   "source": [
    "def binary_addition(a:str, b:str)->list:\n",
    "    \"\"\"\n",
    "    두개의 2진수를 더해서 결과를 리턴하는 함수\n",
    "    덧셈만 구현... 뺄셈까지 구현하기엔 귀찮음 (보수 씁시다 ^^)\n",
    "    \"\"\"\n",
    "    \n",
    "    a = split_binary(preprocessing(a))\n",
    "    b = split_binary(preprocessing(b))\n",
    "    total, carry = [], 0\n",
    "    \n",
    "    # 두 수의 자리수가 안맞으면 맞춰줌\n",
    "    while len(a) != len(b):\n",
    "        if len(a) > len(b): b.insert(0, '0000')\n",
    "        else : a.insert(0, '0000')\n",
    "    \n",
    "    a.reverse() # 뒤부터 연산해야하기 때문에 뒤집음\n",
    "    b.reverse() # 뒤부터 연산해야하기 때문에 뒤집음\n",
    "    \n",
    "    for n in zip(a, b):\n",
    "        a_i = ''.join(reversed(n[0]))\n",
    "        b_i = ''.join(reversed(n[1]))\n",
    "        unit = []\n",
    "        \n",
    "        for j, m in enumerate(zip(a_i, b_i)):\n",
    "            a_ij, b_ij = int(m[0]), int(m[1])\n",
    "            result = a_ij + b_ij + carry\n",
    "            \n",
    "            if result >= 2: result -= 2 ; carry = 1\n",
    "            else: carry = 0\n",
    "            unit.append(result)\n",
    "            \n",
    "            if j == 3:\n",
    "                unit.reverse()\n",
    "\n",
    "        total += unit\n",
    "        \n",
    "    if carry == 1:\n",
    "        for i in [0, 0, 0, 1]:\n",
    "            total.append(i)\n",
    "        \n",
    "    total = [str(i) for i in total]\n",
    "    total = split_binary(''.join(total))\n",
    "    total.reverse()\n",
    "    return total\n",
    "\n",
    "\n",
    "a, b = '01011001', '10111011'\n",
    "# 0101 1001 + 1011 1011 = 0001 0001 0100\n",
    "\n",
    "print(\"{0} + {1}\".format(a, b))\n",
    "print('===> {}'.format(' '.join(binary_addition(a, b))))"
   ]
  },
  {
   "cell_type": "markdown",
   "metadata": {},
   "source": [
    "### 4. Reference\n",
    "> https://youtu.be/zUL4Np5QhXw\n"
   ]
  }
 ],
 "metadata": {
  "kernelspec": {
   "display_name": "Python 3",
   "language": "python",
   "name": "python3"
  },
  "language_info": {
   "codemirror_mode": {
    "name": "ipython",
    "version": 3
   },
   "file_extension": ".py",
   "mimetype": "text/x-python",
   "name": "python",
   "nbconvert_exporter": "python",
   "pygments_lexer": "ipython3",
   "version": "3.6.9"
  }
 },
 "nbformat": 4,
 "nbformat_minor": 4
}
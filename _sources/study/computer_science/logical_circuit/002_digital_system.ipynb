{
 "cells": [
  {
   "cell_type": "markdown",
   "metadata": {},
   "source": [
    "# 디지털 시스템"
   ]
  },
  {
   "cell_type": "markdown",
   "metadata": {},
   "source": [
    "### 디지털 시스템이란?\n",
    "디지털시스템이라는 말에서 시스템과 디지털이 각각 무엇을 의미하는지 알아보자. `시스템`이란 입/출력이 존재하는 사물체를 의미한다. 즉 어떤 것에 입력과 출력이 있으면 뭐든 시스템이라고 할 수 있다. `디지털`은 여기에서 디지털 시그널을 의미하는데, `시그널`은 시간(X축)에 따라 시스템의 상태를 결정짓는 함수이다. 이 함수가 디지털의 특성을 가지면 디지털 시그널이라고 하고, 디지털 시그널의 특징을 갖는 시스템을 디지털 시스템이라고 한다."
   ]
  },
  {
   "cell_type": "markdown",
   "metadata": {},
   "source": [
    "### 신호의 분류\n",
    "아래 그림에서 가장 오른쪽 아래가 디지털 신호이다. 즉, 시간(X축)도 Discrete해야하고 시스템의 상태도 Discrete해야한다. 한마디로 둘다 불연속적이여야 한다는 것이다.\n",
    "\n",
    "![image](https://user-images.githubusercontent.com/38183241/103154346-4621e080-47da-11eb-8496-c122ef75d50d.jpg)"
   ]
  },
  {
   "cell_type": "markdown",
   "metadata": {},
   "source": [
    "### 아날로그와 디지털의 예시\n",
    "- ADC (Analog to Digital Converter) :\n",
    "\n",
    "아날로그 → 샘플링(Discrete Time) → 양자화(Discrete Signal) → 디지털 과정\n",
    "\n",
    "![](https://user-images.githubusercontent.com/38183241/103154347-47530d80-47da-11eb-80d9-ff8dec602651.png)"
   ]
  },
  {
   "cell_type": "markdown",
   "metadata": {},
   "source": [
    "### Reference\n",
    "> https://youtu.be/RpL-8La2dwo\n"
   ]
  }
 ],
 "metadata": {
  "kernelspec": {
   "display_name": "Python 3",
   "language": "python",
   "name": "python3"
  },
  "language_info": {
   "codemirror_mode": {
    "name": "ipython",
    "version": 3
   },
   "file_extension": ".py",
   "mimetype": "text/x-python",
   "name": "python",
   "nbconvert_exporter": "python",
   "pygments_lexer": "ipython3",
   "version": "3.6.9"
  }
 },
 "nbformat": 4,
 "nbformat_minor": 4
}
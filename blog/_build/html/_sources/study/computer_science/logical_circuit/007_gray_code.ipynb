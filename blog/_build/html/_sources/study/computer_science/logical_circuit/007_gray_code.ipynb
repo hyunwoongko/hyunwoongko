{
 "cells": [
  {
   "cell_type": "markdown",
   "metadata": {},
   "source": [
    "# 그레이 코드"
   ]
  },
  {
   "cell_type": "markdown",
   "metadata": {},
   "source": [
    "### 그레이 코드의 특징과 목적\n",
    "그레이 코드는 각 비트패턴이 Unit Distance이면서 Reflective한 코드시스템이다. 시스템에서 2개 이상의 비트가 변할때 정밀하게 측정하면 정확히 동시에 변하지 않고 약간 시간 차이가 발생하는데 이 것을 실시간으로 측정하면 에러가 상당히 커지게 된다. 그레이코드는 한번에 한비트만 변하기 때문에 이로인해 발생할 수 있는 에러가 최소화된다.\n",
    "\n",
    "#### Unit Distance 코드\n",
    "Unit Distance는 한번에 1비트만 변하는 구조를 의미한다. 그레이코드는 Unit Distance 코드이기 때문에 동시에 두 비트가 변하는 경우가 없고 때문에 에러가 적다.\n",
    "\n",
    "#### Reflective 코드\n",
    "Unit Distance만큼이나 중요한 그레이코드의 특징이다. 만약 어떤 코드가 Reflective하면 첫번째 비트패턴과 마지막 비트패턴역시 Unit Distance로 연결될 수 있기 때문에 전체 패턴이 Unit Distance일 수 있다."
   ]
  },
  {
   "cell_type": "markdown",
   "metadata": {},
   "source": [
    "### 그레이코드 생성하기\n",
    "\n",
    "#### 1 Bit 그레이코드\n",
    "- $0\\;|\\; 1$\n",
    "\n",
    "#### 2 Bit 그레이코드\n",
    "1. 이전비트 복사하기 (왼쪽) : $0\\; 1\\;|\\; ?\\; ?$\n",
    "2. 리플렉팅 (순서 거꾸로) : $0\\; 1\\;|\\; 1\\; 0$\n",
    "3. 앞자리에 비트추가 (왼쪽0, 오른쪽1) : $00\\; 01\\;|\\; 11\\; 10$\n",
    "\n",
    "#### 3 Bit 그레이코드\n",
    "1. 이전비트 복사하기 (왼쪽) : $00\\; 01\\; 11\\; 10\\;|\\; ?\\; ?\\; ?\\; ?$\n",
    "2. 리플렉팅 (순서 거꾸로) : $00\\; 01\\; 11\\; 10\\;|\\; 10\\; 11\\; 01\\; 00$\n",
    "3. 앞자리에 비트추가 (왼쪽0, 오른쪽1) : $000\\; 001\\; 011\\; 010\\;|\\; 110\\; 111\\; 101\\; 100$\n",
    "\n",
    "#### 구현"
   ]
  },
  {
   "cell_type": "code",
   "execution_count": 1,
   "metadata": {},
   "outputs": [
    {
     "name": "stdout",
     "output_type": "stream",
     "text": [
      "1bit => ['0', '1']\n",
      "2bit => ['00', '01', '11', '10']\n",
      "3bit => ['000', '001', '011', '010', '110', '111', '101', '100']\n"
     ]
    }
   ],
   "source": [
    "import copy\n",
    "\n",
    "def gray_code(n_bit):\n",
    "    \"\"\"\n",
    "    n 비트의 그레이코드를 만드는 함수\n",
    "    \"\"\"\n",
    "    \n",
    "    bit_set = ['0', '1']\n",
    "    \n",
    "    for i in range(n_bit-1):\n",
    "        reflected = copy.deepcopy(bit_set)\n",
    "        reflected.reverse()\n",
    "        \n",
    "        bit_set = ['0' + j[:] for j in bit_set]\n",
    "        reflected = ['1' + j[:] for j in reflected]\n",
    "        bit_set += reflected\n",
    "    \n",
    "    return bit_set\n",
    "\n",
    "print('1bit =>', gray_code(1))\n",
    "print('2bit =>', gray_code(2))\n",
    "print('3bit =>', gray_code(3))"
   ]
  },
  {
   "cell_type": "markdown",
   "metadata": {},
   "source": [
    "### 그레이코드와 이진코드 변환\n",
    "\n",
    "#### 규칙\n",
    "- 이진 → 그레이 : 가장 앞비트는 그대로, 이전 원소와 다음 원소를 XOR한다.\n",
    "- 그레이 → 이진 : 가장 앞비트는 그대로, 이전 반환값과 다음 원소를 XOR한다.\n",
    "\n",
    "![img](https://user-images.githubusercontent.com/38183241/103154351-48843a80-47da-11eb-8c5c-be1bd1ed3c67.jpg)\n",
    "\n",
    "#### 구현"
   ]
  },
  {
   "cell_type": "code",
   "execution_count": 2,
   "metadata": {},
   "outputs": [
    {
     "name": "stdout",
     "output_type": "stream",
     "text": [
      "binary 0111 => gray 0100\n",
      "gray 0100 => binary 0111\n"
     ]
    }
   ],
   "source": [
    "import re\n",
    "\n",
    "def xor(a, b):\n",
    "    if a == b: return '0'\n",
    "    else: return '1'\n",
    "\n",
    "\n",
    "def binary_to_gray(binary_code):\n",
    "    \"\"\"\n",
    "    이진코드 => 그레이코드 변환함수\n",
    "    \"\"\"\n",
    "    gray_code = []\n",
    "    binary_code = re.sub(\" \", \"\", binary_code)\n",
    "    prev = binary_code[0]\n",
    "    gray_code.append(prev) \n",
    "    # 첫 비트는 그대로 살림\n",
    "    \n",
    "    for after in binary_code[1:]:\n",
    "        gray = xor(prev, after)\n",
    "        gray_code.append(gray)\n",
    "        # 이전 원소와 다음원소를 xor\n",
    "        \n",
    "        prev = after\n",
    "        # 현재원소가 이전원소가 됨\n",
    "    \n",
    "    return ''.join(gray_code)\n",
    "\n",
    "\n",
    "def gray_to_binary(gray_code):\n",
    "    \"\"\"\n",
    "    그레이코드 => 이진코드 변환함수\n",
    "    \"\"\"\n",
    "    binary_code = []\n",
    "    gray_code = re.sub(\" \", \"\", gray_code)\n",
    "    prev = gray_code[0]\n",
    "    binary_code.append(prev)\n",
    "    \n",
    "    for after in gray_code[1:]:\n",
    "        xor_result = xor(after, prev)\n",
    "        binary_code.append(xor_result)\n",
    "        # 이전 xor결과값과 다음 원소를 xor\n",
    "        \n",
    "        prev = xor_result\n",
    "        # xor의 결과값이 이전원소가 됨.\n",
    "    \n",
    "    return ''.join(binary_code)\n",
    "\n",
    "    \n",
    "print('binary 0111 => gray {}'.format(binary_to_gray('0111')))\n",
    "print('gray 0100 => binary {}'.format(gray_to_binary('0100')))"
   ]
  },
  {
   "cell_type": "markdown",
   "metadata": {},
   "source": [
    "### Reference\n",
    "> https://youtu.be/N6fhO0En4rk\n"
   ]
  }
 ],
 "metadata": {
  "kernelspec": {
   "display_name": "Python 3",
   "language": "python",
   "name": "python3"
  },
  "language_info": {
   "codemirror_mode": {
    "name": "ipython",
    "version": 3
   },
   "file_extension": ".py",
   "mimetype": "text/x-python",
   "name": "python",
   "nbconvert_exporter": "python",
   "pygments_lexer": "ipython3",
   "version": "3.6.9"
  }
 },
 "nbformat": 4,
 "nbformat_minor": 4
}
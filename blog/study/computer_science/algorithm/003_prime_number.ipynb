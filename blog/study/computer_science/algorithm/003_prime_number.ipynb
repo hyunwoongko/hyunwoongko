{
 "cells": [
  {
   "cell_type": "markdown",
   "metadata": {},
   "source": [
    "# 소수 판별 알고리즘"
   ]
  },
  {
   "cell_type": "markdown",
   "metadata": {},
   "source": [
    "### 알고리즘 개요\n",
    "소수 판별 알고리즘은 말 그대로 정수 하나를 입력받아서 해당 정수가 소수인지 판단하는 알고리즘이다. 소수란 `1과 자기자신을 제외하면 약수가 없는 정수`를 의미한다."
   ]
  },
  {
   "cell_type": "markdown",
   "metadata": {},
   "source": [
    "### 수도 코드\n",
    "\n",
    "```c\n",
    "int is_prime(int n){\n",
    "    \"2부터 n-1까지의 수로 n을 나눠본다.\"\n",
    "    \n",
    "    if(\"하나라도 나머지가 0인 것을 발견\")\n",
    "        return false;\n",
    "    else \n",
    "        return true;\n",
    "}\n",
    "```"
   ]
  },
  {
   "cell_type": "markdown",
   "metadata": {},
   "source": [
    "### 알고리즘 구현"
   ]
  },
  {
   "cell_type": "code",
   "execution_count": 1,
   "metadata": {},
   "outputs": [
    {
     "name": "stdout",
     "output_type": "stream",
     "text": [
      "93은 소수인가? : no\n",
      "13은 소수인가? : yes\n",
      "12는 소수인가? : no\n"
     ]
    }
   ],
   "source": [
    "#include<stdio.h>\n",
    "\n",
    "/*\n",
    "* 2부터 시작하는 이유 => 0(divied by zero), 1(소수 정의에서 허용)\n",
    "* n-1까지만 loop하는 이유 => n 자기자신은 제외(소수 정의에서 허용)\n",
    "*/\n",
    "int is_prime(int n){\n",
    "    for(int i = 2 ; i < n-1 ; i++){\n",
    "        if(n % i == 0){\n",
    "            return 0;\n",
    "        }\n",
    "    }\n",
    "    \n",
    "    return 1;\n",
    "}\n",
    "\n",
    "int main(){\n",
    "    \n",
    "    printf(\"93은 소수인가? : %s\\n\", is_prime(93) ? \"yes\" : \"no\");\n",
    "    printf(\"13은 소수인가? : %s\\n\", is_prime(13) ? \"yes\" : \"no\");\n",
    "    printf(\"12는 소수인가? : %s\\n\", is_prime(12) ? \"yes\" : \"no\");\n",
    "    \n",
    "    return 0;\n",
    "}"
   ]
  },
  {
   "cell_type": "markdown",
   "metadata": {},
   "source": [
    "### 알고리즘 최적화\n",
    "12의 경우 2x6, 3x4, 4x3, 6x2로 나눌 수 있다. 그런데 2x6과 6x2, 3x4과 4x3은 사실 동일하다. 때문에 딱 절반만 해보면 이 수가 소수인지 아닌지 알 수 있다. 만약 n을 i x j로 만든다면, `딱 절반은 sqrt(n) x sqrt(n)`이다."
   ]
  },
  {
   "cell_type": "code",
   "execution_count": 2,
   "metadata": {},
   "outputs": [
    {
     "name": "stdout",
     "output_type": "stream",
     "text": [
      "93은 소수인가? : no\n",
      "13은 소수인가? : yes\n",
      "12는 소수인가? : no\n"
     ]
    }
   ],
   "source": [
    "#include<stdio.h>\n",
    "#include<math.h>\n",
    "\n",
    "/*\n",
    "* 2부터 시작하는 이유 => 0(divied by zero), 1(소수 정의에서 허용)\n",
    "* n-1까지만 loop하는 이유 => n 자기자신은 제외(소수 정의에서 허용)\n",
    "*/\n",
    "int is_prime(int n){\n",
    "    for(int i = 2 ; i < sqrt(n) ; i++){\n",
    "        if(n % i == 0){\n",
    "            return 0;\n",
    "        }\n",
    "    }\n",
    "    \n",
    "    return 1;\n",
    "}\n",
    "\n",
    "int main(){\n",
    "    \n",
    "    printf(\"93은 소수인가? : %s\\n\", is_prime(93) ? \"yes\" : \"no\");\n",
    "    printf(\"13은 소수인가? : %s\\n\", is_prime(13) ? \"yes\" : \"no\");\n",
    "    printf(\"12는 소수인가? : %s\\n\", is_prime(12) ? \"yes\" : \"no\");\n",
    "    \n",
    "    return 0;\n",
    "}"
   ]
  },
  {
   "cell_type": "markdown",
   "metadata": {},
   "source": [
    "### Reference\n",
    "> https://youtu.be/mdwiXa34FXk"
   ]
  }
 ],
 "metadata": {
  "kernelspec": {
   "display_name": "C",
   "language": "c",
   "name": "c"
  },
  "language_info": {
   "file_extension": ".c",
   "mimetype": "text/plain",
   "name": "c"
  }
 },
 "nbformat": 4,
 "nbformat_minor": 4
}
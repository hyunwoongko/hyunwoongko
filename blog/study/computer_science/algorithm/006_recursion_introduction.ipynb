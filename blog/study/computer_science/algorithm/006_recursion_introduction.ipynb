{
 "cells": [
  {
   "cell_type": "markdown",
   "metadata": {},
   "source": [
    "# 재귀(1) - 개요"
   ]
  },
  {
   "cell_type": "markdown",
   "metadata": {},
   "source": [
    "### 재귀함수란?\n",
    "재귀함수란 자기 자신을 호출하는 함수를 의미한다. 아래 예시(팩토리얼)을 보자. 이렇게 재귀호출을 이용하면 코드를 깔끔하고 읽기 좋게 짤 수 있게 된다 (수학적 정의를 그대로 따라갈 수 있다) 팩토리얼은 N!과 같이 표기하면 자연수 N이 주어지면 1부터 N까지의 수열을 모두 곱하는 것을 의미한다."
   ]
  },
  {
   "cell_type": "code",
   "execution_count": 10,
   "metadata": {},
   "outputs": [
    {
     "name": "stdout",
     "output_type": "stream",
     "text": [
      "120"
     ]
    }
   ],
   "source": [
    "#include<stdio.h>\n",
    "\n",
    "int factorial(int n){\n",
    "    if (n == 0)\n",
    "        return 1;\n",
    "    else \n",
    "        return n * factorial(n - 1);\n",
    "}\n",
    "\n",
    "int main(){\n",
    "    \n",
    "    int result = factorial(5);\n",
    "    printf(\"%d\", result);\n",
    "    \n",
    "    return 0;\n",
    "}"
   ]
  },
  {
   "cell_type": "markdown",
   "metadata": {},
   "source": [
    "### 잘못된 재귀호출\n",
    "\n",
    "#### 잘못된 예시 : \"장미는 장미이다\"\n",
    "그러나 모든 재귀호출이 좋은 것은 아니다. 재귀호출은 굉장히 조심히 사용해야하는 테크닉인데 아래의 잘못된 예시들을 보면 무엇이 잘못되었는지 알게 된다. `첫번째 예시의 rose() 함수는 끊임없이 자기 자신의 함수를 호출하고 있다.` 이렇게 계속해서 함수를 호출하게 되면 stack 메모리가 가득차서 Stack Overflow에 빠질 수 있다. 이 함수가 실행불가능한 함수인 건 다음과 같이도 생각해 볼 수 있다. 장미에 대해서 설명해달라고 했는데, \"장미는 장미이다\"라고만 대답한다면, \"그러면 그 장미가 뭔데?\" → \"장미는 장미이다\" 처럼 논리에 있어서 해결되지 않는다."
   ]
  },
  {
   "cell_type": "code",
   "execution_count": null,
   "metadata": {},
   "outputs": [],
   "source": [
    "void rose(){\n",
    "    rose();\n",
    "}"
   ]
  },
  {
   "cell_type": "markdown",
   "metadata": {},
   "source": [
    "#### 잘못된 예시 : \"A는 B옆에 있다\", \"B는 A옆에 있다\"\n",
    "그렇다면 자기자신만 계속해서 부르지 않는다면 해결되는걸까? `두번째 예시는 자기자신을 호출하진 않지만, 서로가 서로를 끝없이 계속 호출`하게 되어 결국 Stack Overflow에 빠지게 된다. 마찬가지로 \"A는 어디있니?\"라고 물었는데 \"B 옆에 있어\"라고 대답한다면 \"B는 어딨는데?\" → \"A 옆에 있어\" → \"A는 어디있니?\"와 같이 끝나지 않는 논리가 된다."
   ]
  },
  {
   "cell_type": "code",
   "execution_count": null,
   "metadata": {
    "pycharm": {
     "name": "#%%\n"
    }
   },
   "outputs": [],
   "source": [
    "void A(){\n",
    "    B();\n",
    "}\n",
    "\n",
    "void B(){\n",
    "    A();\n",
    "}"
   ]
  }
 ],
 "metadata": {
  "kernelspec": {
   "display_name": "C",
   "language": "c",
   "name": "c"
  },
  "language_info": {
   "file_extension": ".c",
   "mimetype": "text/plain",
   "name": "c"
  }
 },
 "nbformat": 4,
 "nbformat_minor": 4
}
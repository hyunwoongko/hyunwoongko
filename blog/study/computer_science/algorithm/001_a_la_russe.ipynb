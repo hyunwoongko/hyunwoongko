{
 "cells": [
  {
   "cell_type": "markdown",
   "metadata": {},
   "source": [
    "# A La Russe"
   ]
  },
  {
   "cell_type": "markdown",
   "metadata": {},
   "source": [
    "### 알고리즘 개요\n",
    "A La Russe는 두 정수를 곱하는 알고리즘이다. 그러나 우리가 계산하던 방식과는 약간 다르게 접근한다. 3칸을 만들고, 수를 적은 뒤 한쪽엔 2를 곱해가며, 한쪽엔 2를 나눠가며 계산하는 독특한 방식이다."
   ]
  },
  {
   "cell_type": "markdown",
   "metadata": {},
   "source": [
    "### 수도 코드\n",
    "```c\n",
    "int aLaRusse(int a, int b){\n",
    "    \"3개의 칸을 만들고 a는 1번, b는 2번칸에 쓴다\"\n",
    "            \n",
    "    while(\"1번 값\" != 0){\n",
    "           \"1번값이 홀수이면, 2번 값을 3번에 옮겨쓴다\"\n",
    "           \"1번값을 2로 나누고, 2번값에 2를 곱한다\"\n",
    "    }\n",
    "        \n",
    "    return \"3번을 모두 더한 값\"\n",
    "}\n",
    "```"
   ]
  },
  {
   "cell_type": "markdown",
   "metadata": {},
   "source": [
    "### 알고리즘 구현"
   ]
  },
  {
   "cell_type": "code",
   "execution_count": 1,
   "metadata": {},
   "outputs": [
    {
     "name": "stdout",
     "output_type": "stream",
     "text": [
      "22 74 37\n",
      "11 148 37\n",
      "5 296 185\n",
      "2 592 481\n",
      "1 1184 481\n",
      "0 2368 1665\n",
      "\n",
      "결과 = 1665"
     ]
    }
   ],
   "source": [
    "#include<stdio.h>\n",
    "\n",
    "int aLaRusse(int a, int b){\n",
    "    int c = 0; \n",
    "    // 굳이 3칸 안만들고 a, b는 변수 그대로 이용\n",
    "    \n",
    "    while(a != 0){\n",
    "        if(a % 2 != 0){\n",
    "            c += b;\n",
    "        }\n",
    "        \n",
    "        a /= 2;\n",
    "        b *= 2;\n",
    "        \n",
    "        printf(\"%d %d %d\\n\", a, b, c);\n",
    "    }\n",
    "    \n",
    "    return c;\n",
    "}\n",
    "\n",
    "int main(){\n",
    "    int result = aLaRusse(45, 37);\n",
    "    printf(\"\\n결과 = %d\", result);\n",
    "    \n",
    "    return 0;\n",
    "}"
   ]
  },
  {
   "cell_type": "markdown",
   "metadata": {},
   "source": [
    "### 알고리즘 원리\n",
    "\n",
    "![img](https://user-images.githubusercontent.com/38183241/103154308-f5aa8300-47d9-11eb-98c4-efac2f450d3d.png)\n",
    "\n",
    "이 알고리즘은 `\"2x2 = 1x4\"라는 원리`를 가지고 곱셈을 수행한다. 맨 처음에 45가 홀수이기 때문에 하나 떼놓고, 44x37 + 37을 수행한다. 이 때, 37이 한번 덜 곱해져서 더해줬는데, 이 값이 바로 3번째 칸에 쓰이는 값이다 . 위의 원리를 이용하면 44x37 = 22x74와 동일하고 22x74 = 11x148과 동일하다. 이 원리로 첫번째 수가 1이 될때까지 짝수만들고 나머지 빼고 곱셈을 반복한다. 최종적으로 1x1184이 되고 나머지(37+148+296=481)를 모두 더하면 1665가 된다."
   ]
  },
  {
   "cell_type": "markdown",
   "metadata": {},
   "source": [
    "### Reference\n",
    "> https://youtu.be/XyZ8bAuanHc"
   ]
  }
 ],
 "metadata": {
  "kernelspec": {
   "display_name": "C",
   "language": "c",
   "name": "c"
  },
  "language_info": {
   "file_extension": ".c",
   "mimetype": "text/plain",
   "name": "c"
  }
 },
 "nbformat": 4,
 "nbformat_minor": 4
}